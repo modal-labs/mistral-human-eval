{
 "cells": [
  {
   "cell_type": "code",
   "execution_count": null,
   "id": "4352855e-430c-44db-8c6c-27fdf9bc6a7b",
   "metadata": {},
   "outputs": [],
   "source": [
    "!pip install -qqq pandas numpy matplotlib seaborn"
   ]
  },
  {
   "cell_type": "code",
   "execution_count": null,
   "id": "9c30fccc-767e-4b9a-bb9f-b1c76659e2f3",
   "metadata": {},
   "outputs": [],
   "source": [
    "!ls ../volume"
   ]
  },
  {
   "cell_type": "code",
   "execution_count": null,
   "id": "75f3dfe7-f1fb-4d96-85b7-700992ae54a5",
   "metadata": {},
   "outputs": [],
   "source": [
    "from pathlib import Path"
   ]
  },
  {
   "cell_type": "code",
   "execution_count": null,
   "id": "9d85a131-e2c1-421a-88cb-3576f2dc0e4a",
   "metadata": {},
   "outputs": [],
   "source": [
    "!ls ../volume/dev-llm"
   ]
  },
  {
   "cell_type": "code",
   "execution_count": null,
   "id": "bfa2f045-5691-4a5a-a6f3-f123a75b5a17",
   "metadata": {},
   "outputs": [],
   "source": [
    "run_dirs = list(sorted((Path(\"../volume\") / \"dev-llm\").glob(\"run-*\")))"
   ]
  },
  {
   "cell_type": "code",
   "execution_count": null,
   "id": "6a12b168-cc8a-43ae-8a7d-ba8a59bb7090",
   "metadata": {},
   "outputs": [],
   "source": [
    "run_dirs"
   ]
  },
  {
   "cell_type": "code",
   "execution_count": null,
   "id": "72b67762-9060-4b29-88b8-e11116ed42d2",
   "metadata": {},
   "outputs": [],
   "source": [
    "for run_dir in reversed(run_dirs):\n",
    "    if len(list(run_dir.iterdir())) < 327:\n",
    "        print(f\"skipping incomplete run {run_dir}\")\n",
    "    else:\n",
    "        print(f\"found complete run {run_dir}\")\n",
    "        break\n",
    "else:\n",
    "    raise ValueError(\"no complete runs found\")"
   ]
  },
  {
   "cell_type": "code",
   "execution_count": null,
   "id": "418fa199-906c-473b-8c6f-d76a1f826049",
   "metadata": {},
   "outputs": [],
   "source": [
    "all_result_paths = list(run_dir.glob(\"*.jsonl_results.jsonl\"))\n",
    "len(all_result_paths)"
   ]
  },
  {
   "cell_type": "code",
   "execution_count": null,
   "id": "037da950-f4a2-4f1f-bfdd-cb777c6b80e8",
   "metadata": {},
   "outputs": [],
   "source": [
    "import json\n",
    "\n",
    "import pandas as pd\n",
    "\n",
    "data = []\n",
    "for path in all_result_paths:\n",
    "    data += [json.loads(line) for line in path.read_text(encoding='utf-8').splitlines()]\n",
    "\n",
    "for element in data:\n",
    "    del element[\"completion\"]\n",
    "\n",
    "df = pd.DataFrame.from_records(data)\n",
    "\n",
    "df.sample(10)"
   ]
  },
  {
   "cell_type": "code",
   "execution_count": null,
   "id": "b8758e35-477c-498f-b26f-4a4aa7b20b4a",
   "metadata": {},
   "outputs": [],
   "source": [
    "gb = df.groupby(\"task_id\")\n",
    "gb.describe()"
   ]
  },
  {
   "cell_type": "code",
   "execution_count": null,
   "id": "5ecf6b40-6289-46aa-952c-247e81ceaf65",
   "metadata": {},
   "outputs": [],
   "source": [
    "passes = gb[\"passed\"].sum()"
   ]
  },
  {
   "cell_type": "code",
   "execution_count": null,
   "id": "0bafd6f4-c367-4ffb-a92e-0954e3cc7a35",
   "metadata": {},
   "outputs": [],
   "source": [
    "import itertools\n",
    "from typing import List, Union\n",
    "\n",
    "import numpy as np\n",
    "\n",
    "def estimate_pass_at_k(\n",
    "    num_samples: Union[int, List[int], np.ndarray],\n",
    "    num_correct: Union[List[int], np.ndarray],\n",
    "    k: int\n",
    ") -> np.ndarray:\n",
    "    \"\"\"\n",
    "    Estimates pass@k of each problem and returns them in an array.\n",
    "    \"\"\"\n",
    "\n",
    "    def estimator(n: int, c: int, k: int) -> float:\n",
    "        \"\"\"\n",
    "        Calculates 1 - comb(n - c, k) / comb(n, k).\n",
    "        \"\"\"\n",
    "        if n - c < k:\n",
    "            return 1.0\n",
    "        return 1.0 - np.prod(1.0 - k / np.arange(n - c + 1, n + 1))\n",
    "\n",
    "    if isinstance(num_samples, int):\n",
    "        num_samples_it = itertools.repeat(num_samples, len(num_correct))\n",
    "    else:\n",
    "        assert len(num_samples) == len(num_correct)\n",
    "        num_samples_it = iter(num_samples)\n",
    "\n",
    "    return np.array([estimator(int(n), int(c), k) for n, c in zip(num_samples_it, num_correct)])"
   ]
  },
  {
   "cell_type": "code",
   "execution_count": null,
   "id": "a0db7a1a-696b-44dd-8ee5-84e39cdd2013",
   "metadata": {},
   "outputs": [],
   "source": [
    "pass_at_ks = {}\n",
    "\n",
    "for k in [1, 10, 100, 1000]:\n",
    "    pass_at_ks[k] = estimate_pass_at_k(1000, passes, k)"
   ]
  },
  {
   "cell_type": "code",
   "execution_count": null,
   "id": "65b8b318-a5cf-4149-b2bb-50dd83c22982",
   "metadata": {},
   "outputs": [],
   "source": [
    "pass_at_k = {k: np.mean(v) for k, v in pass_at_ks.items()}\n",
    "pass_at_k"
   ]
  },
  {
   "cell_type": "code",
   "execution_count": null,
   "id": "0236e572-7047-4288-b88a-1801862e9e1b",
   "metadata": {},
   "outputs": [],
   "source": [
    "plot_df = pd.DataFrame(\n",
    "    {\"k\": pass_at_k.keys(),\n",
    "     \"pass@k\": pass_at_k.values()}\n",
    ")\n",
    "plot_df[\"fail@k\"] = 1 - plot_df[\"pass@k\"]"
   ]
  },
  {
   "cell_type": "code",
   "execution_count": null,
   "id": "557a66c8-9217-4c13-91cf-e93ed91853e8",
   "metadata": {},
   "outputs": [],
   "source": [
    "import seaborn as sns\n",
    "import matplotlib.pyplot as plt\n",
    "\n",
    "sns.set_theme(style='dark')\n",
    "plt.style.use(\"dark_background\")\n",
    "\n",
    "plt.rcParams['font.sans-serif'] = [\"Inter\", \"Arial\", \"DejaVu Sans\", \"Liberation Sans\", \"Bitstream Vera Sans\", \"sans-serif\"]\n",
    "\n",
    "sns.despine()\n",
    "\n",
    "sns.set_context(\"talk\", rc={\"lines.linewidth\": 2.5})"
   ]
  },
  {
   "cell_type": "code",
   "execution_count": null,
   "id": "56a8cd53-60d8-45a1-b242-e74f8e615d0a",
   "metadata": {},
   "outputs": [],
   "source": [
    "gpt4o_benchmark = 0.902"
   ]
  },
  {
   "cell_type": "code",
   "execution_count": null,
   "id": "aa9d0fdd-85c5-4d02-9995-d2d2593ee817",
   "metadata": {},
   "outputs": [],
   "source": [
    "fg = sns.lineplot(\n",
    "    x=\"k\",\n",
    "    y=\"pass@k\",\n",
    "    data=plot_df,\n",
    "    color=\"#7FEE64\",\n",
    "    linewidth=6,\n",
    "    alpha=0.9,\n",
    "    label=\"Ministral 8B pass@k\"\n",
    "  )\n",
    "\n",
    "initial_lim = fg.axes.get_xlim()\n",
    "fg.axes.hlines(\n",
    "      gpt4o_benchmark, *initial_lim,\n",
    "      linestyle=\"--\",\n",
    "      alpha=0.6,\n",
    "      zorder=-1,\n",
    "      label=\"GPT-4o pass@1\"\n",
    "  )\n",
    "fg.axes.set_xlim(*initial_lim);\n",
    "fg.axes.set_ylabel(\"\");\n",
    "fg.axes.set_ylim(0, 1);\n",
    "plt.legend();"
   ]
  },
  {
   "cell_type": "code",
   "execution_count": null,
   "id": "7d406876-6ff2-4b7a-9464-1f638c9e3aba",
   "metadata": {},
   "outputs": [],
   "source": [
    "fg = sns.lineplot(\n",
    "    x=\"k\",\n",
    "    y=\"fail@k\",\n",
    "    data=plot_df,\n",
    "    color=\"#7FEE64\",\n",
    "    linewidth=6,\n",
    "    alpha=0.9,\n",
    "    label=\"Ministral 8B fail@k\"\n",
    "  )\n",
    "\n",
    "initial_lim = fg.axes.get_xlim()\n",
    "fg.axes.hlines(\n",
    "      1 - gpt4o_benchmark, *initial_lim,\n",
    "      linestyle=\"--\",\n",
    "      alpha=0.6,\n",
    "      zorder=-1,\n",
    "      label=\"GPT-4o fail@1\"\n",
    "  )\n",
    "fg.axes.set_xlim(*initial_lim);\n",
    "fg.axes.set_ylabel(\"\");\n",
    "fg.axes.set_yscale(\"log\")\n",
    "fg.axes.set_xscale(\"log\")\n",
    "fg.axes.set_xlim(0.5, 2000);\n",
    "fg.axes.set_ylim(1e-2, 1e0);\n",
    "plt.legend();"
   ]
  }
 ],
 "metadata": {
  "kernelspec": {
   "display_name": "Python 3 (ipykernel)",
   "language": "python",
   "name": "python3"
  },
  "language_info": {
   "codemirror_mode": {
    "name": "ipython",
    "version": 3
   },
   "file_extension": ".py",
   "mimetype": "text/x-python",
   "name": "python",
   "nbconvert_exporter": "python",
   "pygments_lexer": "ipython3",
   "version": "3.11.5"
  }
 },
 "nbformat": 4,
 "nbformat_minor": 5
}
